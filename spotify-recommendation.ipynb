{
 "cells": [
  {
   "cell_type": "code",
   "execution_count": 1,
   "id": "3f750378",
   "metadata": {
    "execution": {
     "iopub.execute_input": "2021-09-03T17:22:08.571843Z",
     "iopub.status.busy": "2021-09-03T17:22:08.571237Z",
     "iopub.status.idle": "2021-09-03T17:22:10.106530Z",
     "shell.execute_reply": "2021-09-03T17:22:10.105538Z",
     "shell.execute_reply.started": "2021-09-03T17:06:24.509955Z"
    },
    "papermill": {
     "duration": 1.564223,
     "end_time": "2021-09-03T17:22:10.106711",
     "exception": false,
     "start_time": "2021-09-03T17:22:08.542488",
     "status": "completed"
    },
    "tags": []
   },
   "outputs": [],
   "source": [
    "import numpy as np\n",
    "import pandas as pd\n",
    "import matplotlib.pyplot as plt\n",
    "import seaborn as sns\n",
    "import numpy as np\n",
    "\n",
    "\n",
    "from sklearn.preprocessing import OrdinalEncoder\n",
    "from sklearn.cluster import KMeans\n",
    "\n",
    "from scipy import stats\n",
    "from sklearn.preprocessing import StandardScaler\n",
    "\n",
    "from sklearn.metrics.pairwise import cosine_similarity\n",
    "\n",
    "pd.options.mode.chained_assignment = None  # default='warn'"
   ]
  },
  {
   "cell_type": "markdown",
   "id": "5d8d811f",
   "metadata": {
    "papermill": {
     "duration": 0.015369,
     "end_time": "2021-09-03T17:22:10.138644",
     "exception": false,
     "start_time": "2021-09-03T17:22:10.123275",
     "status": "completed"
    },
    "tags": []
   },
   "source": [
    "## Data Cleaning and Transformation"
   ]
  },
  {
   "cell_type": "code",
   "execution_count": 2,
   "id": "af90ece3",
   "metadata": {
    "execution": {
     "iopub.execute_input": "2021-09-03T17:22:10.175059Z",
     "iopub.status.busy": "2021-09-03T17:22:10.174432Z",
     "iopub.status.idle": "2021-09-03T17:22:11.643190Z",
     "shell.execute_reply": "2021-09-03T17:22:11.642597Z",
     "shell.execute_reply.started": "2021-09-03T17:06:27.005579Z"
    },
    "papermill": {
     "duration": 1.489157,
     "end_time": "2021-09-03T17:22:11.643333",
     "exception": false,
     "start_time": "2021-09-03T17:22:10.154176",
     "status": "completed"
    },
    "tags": []
   },
   "outputs": [
    {
     "data": {
      "text/html": [
       "<div>\n",
       "<style scoped>\n",
       "    .dataframe tbody tr th:only-of-type {\n",
       "        vertical-align: middle;\n",
       "    }\n",
       "\n",
       "    .dataframe tbody tr th {\n",
       "        vertical-align: top;\n",
       "    }\n",
       "\n",
       "    .dataframe thead th {\n",
       "        text-align: right;\n",
       "    }\n",
       "</style>\n",
       "<table border=\"1\" class=\"dataframe\">\n",
       "  <thead>\n",
       "    <tr style=\"text-align: right;\">\n",
       "      <th></th>\n",
       "      <th>genre</th>\n",
       "      <th>artist_name</th>\n",
       "      <th>track_name</th>\n",
       "      <th>track_id</th>\n",
       "      <th>popularity</th>\n",
       "      <th>acousticness</th>\n",
       "      <th>danceability</th>\n",
       "      <th>duration_ms</th>\n",
       "      <th>energy</th>\n",
       "      <th>instrumentalness</th>\n",
       "      <th>key</th>\n",
       "      <th>liveness</th>\n",
       "      <th>loudness</th>\n",
       "      <th>mode</th>\n",
       "      <th>speechiness</th>\n",
       "      <th>tempo</th>\n",
       "      <th>time_signature</th>\n",
       "      <th>valence</th>\n",
       "    </tr>\n",
       "  </thead>\n",
       "  <tbody>\n",
       "    <tr>\n",
       "      <th>0</th>\n",
       "      <td>Movie</td>\n",
       "      <td>Henri Salvador</td>\n",
       "      <td>C'est beau de faire un Show</td>\n",
       "      <td>0BRjO6ga9RKCKjfDqeFgWV</td>\n",
       "      <td>0</td>\n",
       "      <td>0.611</td>\n",
       "      <td>0.389</td>\n",
       "      <td>99373</td>\n",
       "      <td>0.910</td>\n",
       "      <td>0.000</td>\n",
       "      <td>C#</td>\n",
       "      <td>0.3460</td>\n",
       "      <td>-1.828</td>\n",
       "      <td>Major</td>\n",
       "      <td>0.0525</td>\n",
       "      <td>166.969</td>\n",
       "      <td>4/4</td>\n",
       "      <td>0.814</td>\n",
       "    </tr>\n",
       "    <tr>\n",
       "      <th>1</th>\n",
       "      <td>Movie</td>\n",
       "      <td>Martin &amp; les fées</td>\n",
       "      <td>Perdu d'avance (par Gad Elmaleh)</td>\n",
       "      <td>0BjC1NfoEOOusryehmNudP</td>\n",
       "      <td>1</td>\n",
       "      <td>0.246</td>\n",
       "      <td>0.590</td>\n",
       "      <td>137373</td>\n",
       "      <td>0.737</td>\n",
       "      <td>0.000</td>\n",
       "      <td>F#</td>\n",
       "      <td>0.1510</td>\n",
       "      <td>-5.559</td>\n",
       "      <td>Minor</td>\n",
       "      <td>0.0868</td>\n",
       "      <td>174.003</td>\n",
       "      <td>4/4</td>\n",
       "      <td>0.816</td>\n",
       "    </tr>\n",
       "    <tr>\n",
       "      <th>2</th>\n",
       "      <td>Movie</td>\n",
       "      <td>Joseph Williams</td>\n",
       "      <td>Don't Let Me Be Lonely Tonight</td>\n",
       "      <td>0CoSDzoNIKCRs124s9uTVy</td>\n",
       "      <td>3</td>\n",
       "      <td>0.952</td>\n",
       "      <td>0.663</td>\n",
       "      <td>170267</td>\n",
       "      <td>0.131</td>\n",
       "      <td>0.000</td>\n",
       "      <td>C</td>\n",
       "      <td>0.1030</td>\n",
       "      <td>-13.879</td>\n",
       "      <td>Minor</td>\n",
       "      <td>0.0362</td>\n",
       "      <td>99.488</td>\n",
       "      <td>5/4</td>\n",
       "      <td>0.368</td>\n",
       "    </tr>\n",
       "    <tr>\n",
       "      <th>3</th>\n",
       "      <td>Movie</td>\n",
       "      <td>Henri Salvador</td>\n",
       "      <td>Dis-moi Monsieur Gordon Cooper</td>\n",
       "      <td>0Gc6TVm52BwZD07Ki6tIvf</td>\n",
       "      <td>0</td>\n",
       "      <td>0.703</td>\n",
       "      <td>0.240</td>\n",
       "      <td>152427</td>\n",
       "      <td>0.326</td>\n",
       "      <td>0.000</td>\n",
       "      <td>C#</td>\n",
       "      <td>0.0985</td>\n",
       "      <td>-12.178</td>\n",
       "      <td>Major</td>\n",
       "      <td>0.0395</td>\n",
       "      <td>171.758</td>\n",
       "      <td>4/4</td>\n",
       "      <td>0.227</td>\n",
       "    </tr>\n",
       "    <tr>\n",
       "      <th>4</th>\n",
       "      <td>Movie</td>\n",
       "      <td>Fabien Nataf</td>\n",
       "      <td>Ouverture</td>\n",
       "      <td>0IuslXpMROHdEPvSl1fTQK</td>\n",
       "      <td>4</td>\n",
       "      <td>0.950</td>\n",
       "      <td>0.331</td>\n",
       "      <td>82625</td>\n",
       "      <td>0.225</td>\n",
       "      <td>0.123</td>\n",
       "      <td>F</td>\n",
       "      <td>0.2020</td>\n",
       "      <td>-21.150</td>\n",
       "      <td>Major</td>\n",
       "      <td>0.0456</td>\n",
       "      <td>140.576</td>\n",
       "      <td>4/4</td>\n",
       "      <td>0.390</td>\n",
       "    </tr>\n",
       "  </tbody>\n",
       "</table>\n",
       "</div>"
      ],
      "text/plain": [
       "   genre        artist_name                        track_name  \\\n",
       "0  Movie     Henri Salvador       C'est beau de faire un Show   \n",
       "1  Movie  Martin & les fées  Perdu d'avance (par Gad Elmaleh)   \n",
       "2  Movie    Joseph Williams    Don't Let Me Be Lonely Tonight   \n",
       "3  Movie     Henri Salvador    Dis-moi Monsieur Gordon Cooper   \n",
       "4  Movie       Fabien Nataf                         Ouverture   \n",
       "\n",
       "                 track_id  popularity  acousticness  danceability  \\\n",
       "0  0BRjO6ga9RKCKjfDqeFgWV           0         0.611         0.389   \n",
       "1  0BjC1NfoEOOusryehmNudP           1         0.246         0.590   \n",
       "2  0CoSDzoNIKCRs124s9uTVy           3         0.952         0.663   \n",
       "3  0Gc6TVm52BwZD07Ki6tIvf           0         0.703         0.240   \n",
       "4  0IuslXpMROHdEPvSl1fTQK           4         0.950         0.331   \n",
       "\n",
       "   duration_ms  energy  instrumentalness key  liveness  loudness   mode  \\\n",
       "0        99373   0.910             0.000  C#    0.3460    -1.828  Major   \n",
       "1       137373   0.737             0.000  F#    0.1510    -5.559  Minor   \n",
       "2       170267   0.131             0.000   C    0.1030   -13.879  Minor   \n",
       "3       152427   0.326             0.000  C#    0.0985   -12.178  Major   \n",
       "4        82625   0.225             0.123   F    0.2020   -21.150  Major   \n",
       "\n",
       "   speechiness    tempo time_signature  valence  \n",
       "0       0.0525  166.969            4/4    0.814  \n",
       "1       0.0868  174.003            4/4    0.816  \n",
       "2       0.0362   99.488            5/4    0.368  \n",
       "3       0.0395  171.758            4/4    0.227  \n",
       "4       0.0456  140.576            4/4    0.390  "
      ]
     },
     "execution_count": 2,
     "metadata": {},
     "output_type": "execute_result"
    }
   ],
   "source": [
    "data = pd.read_csv(\"../input/ultimate-spotify-tracks-db/SpotifyFeatures.csv\")\n",
    "data.head()"
   ]
  },
  {
   "cell_type": "markdown",
   "id": "9c599739",
   "metadata": {
    "papermill": {
     "duration": 0.015708,
     "end_time": "2021-09-03T17:22:11.676537",
     "exception": false,
     "start_time": "2021-09-03T17:22:11.660829",
     "status": "completed"
    },
    "tags": []
   },
   "source": [
    "Removed the variables of \"key\" and \"time_signature\", and ended up with the following variables"
   ]
  },
  {
   "cell_type": "code",
   "execution_count": 3,
   "id": "0ca10815",
   "metadata": {
    "execution": {
     "iopub.execute_input": "2021-09-03T17:22:11.717950Z",
     "iopub.status.busy": "2021-09-03T17:22:11.717022Z",
     "iopub.status.idle": "2021-09-03T17:22:11.754017Z",
     "shell.execute_reply": "2021-09-03T17:22:11.753445Z",
     "shell.execute_reply.started": "2021-09-03T17:06:31.060164Z"
    },
    "papermill": {
     "duration": 0.061105,
     "end_time": "2021-09-03T17:22:11.754159",
     "exception": false,
     "start_time": "2021-09-03T17:22:11.693054",
     "status": "completed"
    },
    "tags": []
   },
   "outputs": [
    {
     "data": {
      "text/html": [
       "<div>\n",
       "<style scoped>\n",
       "    .dataframe tbody tr th:only-of-type {\n",
       "        vertical-align: middle;\n",
       "    }\n",
       "\n",
       "    .dataframe tbody tr th {\n",
       "        vertical-align: top;\n",
       "    }\n",
       "\n",
       "    .dataframe thead th {\n",
       "        text-align: right;\n",
       "    }\n",
       "</style>\n",
       "<table border=\"1\" class=\"dataframe\">\n",
       "  <thead>\n",
       "    <tr style=\"text-align: right;\">\n",
       "      <th></th>\n",
       "      <th>genre</th>\n",
       "      <th>popularity</th>\n",
       "      <th>acousticness</th>\n",
       "      <th>danceability</th>\n",
       "      <th>duration_ms</th>\n",
       "      <th>energy</th>\n",
       "      <th>instrumentalness</th>\n",
       "      <th>liveness</th>\n",
       "      <th>loudness</th>\n",
       "      <th>mode</th>\n",
       "      <th>speechiness</th>\n",
       "      <th>tempo</th>\n",
       "      <th>valence</th>\n",
       "    </tr>\n",
       "  </thead>\n",
       "  <tbody>\n",
       "    <tr>\n",
       "      <th>0</th>\n",
       "      <td>Movie</td>\n",
       "      <td>0</td>\n",
       "      <td>0.611</td>\n",
       "      <td>0.389</td>\n",
       "      <td>99373</td>\n",
       "      <td>0.910</td>\n",
       "      <td>0.000</td>\n",
       "      <td>0.3460</td>\n",
       "      <td>-1.828</td>\n",
       "      <td>Major</td>\n",
       "      <td>0.0525</td>\n",
       "      <td>166.969</td>\n",
       "      <td>0.814</td>\n",
       "    </tr>\n",
       "    <tr>\n",
       "      <th>1</th>\n",
       "      <td>Movie</td>\n",
       "      <td>1</td>\n",
       "      <td>0.246</td>\n",
       "      <td>0.590</td>\n",
       "      <td>137373</td>\n",
       "      <td>0.737</td>\n",
       "      <td>0.000</td>\n",
       "      <td>0.1510</td>\n",
       "      <td>-5.559</td>\n",
       "      <td>Minor</td>\n",
       "      <td>0.0868</td>\n",
       "      <td>174.003</td>\n",
       "      <td>0.816</td>\n",
       "    </tr>\n",
       "    <tr>\n",
       "      <th>2</th>\n",
       "      <td>Movie</td>\n",
       "      <td>3</td>\n",
       "      <td>0.952</td>\n",
       "      <td>0.663</td>\n",
       "      <td>170267</td>\n",
       "      <td>0.131</td>\n",
       "      <td>0.000</td>\n",
       "      <td>0.1030</td>\n",
       "      <td>-13.879</td>\n",
       "      <td>Minor</td>\n",
       "      <td>0.0362</td>\n",
       "      <td>99.488</td>\n",
       "      <td>0.368</td>\n",
       "    </tr>\n",
       "    <tr>\n",
       "      <th>3</th>\n",
       "      <td>Movie</td>\n",
       "      <td>0</td>\n",
       "      <td>0.703</td>\n",
       "      <td>0.240</td>\n",
       "      <td>152427</td>\n",
       "      <td>0.326</td>\n",
       "      <td>0.000</td>\n",
       "      <td>0.0985</td>\n",
       "      <td>-12.178</td>\n",
       "      <td>Major</td>\n",
       "      <td>0.0395</td>\n",
       "      <td>171.758</td>\n",
       "      <td>0.227</td>\n",
       "    </tr>\n",
       "    <tr>\n",
       "      <th>4</th>\n",
       "      <td>Movie</td>\n",
       "      <td>4</td>\n",
       "      <td>0.950</td>\n",
       "      <td>0.331</td>\n",
       "      <td>82625</td>\n",
       "      <td>0.225</td>\n",
       "      <td>0.123</td>\n",
       "      <td>0.2020</td>\n",
       "      <td>-21.150</td>\n",
       "      <td>Major</td>\n",
       "      <td>0.0456</td>\n",
       "      <td>140.576</td>\n",
       "      <td>0.390</td>\n",
       "    </tr>\n",
       "  </tbody>\n",
       "</table>\n",
       "</div>"
      ],
      "text/plain": [
       "   genre  popularity  acousticness  danceability  duration_ms  energy  \\\n",
       "0  Movie           0         0.611         0.389        99373   0.910   \n",
       "1  Movie           1         0.246         0.590       137373   0.737   \n",
       "2  Movie           3         0.952         0.663       170267   0.131   \n",
       "3  Movie           0         0.703         0.240       152427   0.326   \n",
       "4  Movie           4         0.950         0.331        82625   0.225   \n",
       "\n",
       "   instrumentalness  liveness  loudness   mode  speechiness    tempo  valence  \n",
       "0             0.000    0.3460    -1.828  Major       0.0525  166.969    0.814  \n",
       "1             0.000    0.1510    -5.559  Minor       0.0868  174.003    0.816  \n",
       "2             0.000    0.1030   -13.879  Minor       0.0362   99.488    0.368  \n",
       "3             0.000    0.0985   -12.178  Major       0.0395  171.758    0.227  \n",
       "4             0.123    0.2020   -21.150  Major       0.0456  140.576    0.390  "
      ]
     },
     "execution_count": 3,
     "metadata": {},
     "output_type": "execute_result"
    }
   ],
   "source": [
    "indx = data[['track_name', 'artist_name']]\n",
    "attributes = data.drop(['track_id', 'time_signature','track_name', 'artist_name', 'key'], axis = 1)\n",
    "attributes.head()"
   ]
  },
  {
   "cell_type": "markdown",
   "id": "efe1d152",
   "metadata": {
    "papermill": {
     "duration": 0.016716,
     "end_time": "2021-09-03T17:22:11.787941",
     "exception": false,
     "start_time": "2021-09-03T17:22:11.771225",
     "status": "completed"
    },
    "tags": []
   },
   "source": [
    "Transformed the qualitative predictors (genre and mode) in binary predictors, and merged the songs genres into one row representing a single song"
   ]
  },
  {
   "cell_type": "code",
   "execution_count": 4,
   "id": "634c2911",
   "metadata": {
    "execution": {
     "iopub.execute_input": "2021-09-03T17:22:11.829127Z",
     "iopub.status.busy": "2021-09-03T17:22:11.828146Z",
     "iopub.status.idle": "2021-09-03T17:22:12.100281Z",
     "shell.execute_reply": "2021-09-03T17:22:12.100765Z",
     "shell.execute_reply.started": "2021-09-03T17:06:33.482156Z"
    },
    "papermill": {
     "duration": 0.29598,
     "end_time": "2021-09-03T17:22:12.100967",
     "exception": false,
     "start_time": "2021-09-03T17:22:11.804987",
     "status": "completed"
    },
    "tags": []
   },
   "outputs": [],
   "source": [
    "ordinal_encoder = OrdinalEncoder()\n",
    "object_cols = ['mode']\n",
    "attributes[object_cols] = ordinal_encoder.fit_transform(attributes[object_cols])\n",
    "\n",
    "attributes = pd.get_dummies(attributes)\n",
    "attributes.insert(loc=0, column='track_name', value=indx.track_name)\n",
    "attributes.insert(loc=1, column = 'artist_name', value = indx.artist_name)\n"
   ]
  },
  {
   "cell_type": "code",
   "execution_count": 5,
   "id": "dc06361a",
   "metadata": {
    "execution": {
     "iopub.execute_input": "2021-09-03T17:22:12.140806Z",
     "iopub.status.busy": "2021-09-03T17:22:12.140119Z",
     "iopub.status.idle": "2021-09-03T17:22:12.143121Z",
     "shell.execute_reply": "2021-09-03T17:22:12.142616Z",
     "shell.execute_reply.started": "2021-09-03T17:06:36.026421Z"
    },
    "papermill": {
     "duration": 0.025251,
     "end_time": "2021-09-03T17:22:12.143292",
     "exception": false,
     "start_time": "2021-09-03T17:22:12.118041",
     "status": "completed"
    },
    "tags": []
   },
   "outputs": [],
   "source": [
    "genres_names = ['genre_A Capella', 'genre_Alternative', 'genre_Anime', 'genre_Blues',\n",
    "       \"genre_Children's Music\", \"genre_Children’s Music\", 'genre_Classical',\n",
    "       'genre_Comedy', 'genre_Country', 'genre_Dance', 'genre_Electronic',\n",
    "       'genre_Folk', 'genre_Hip-Hop', 'genre_Indie', 'genre_Jazz',\n",
    "       'genre_Movie', 'genre_Opera', 'genre_Pop', 'genre_R&B', 'genre_Rap',\n",
    "       'genre_Reggae', 'genre_Reggaeton', 'genre_Rock', 'genre_Ska',\n",
    "       'genre_Soul', 'genre_Soundtrack', 'genre_World']"
   ]
  },
  {
   "cell_type": "code",
   "execution_count": 6,
   "id": "16a0075c",
   "metadata": {
    "execution": {
     "iopub.execute_input": "2021-09-03T17:22:12.188248Z",
     "iopub.status.busy": "2021-09-03T17:22:12.187553Z",
     "iopub.status.idle": "2021-09-03T17:22:14.326031Z",
     "shell.execute_reply": "2021-09-03T17:22:14.326565Z",
     "shell.execute_reply.started": "2021-09-03T17:06:38.267873Z"
    },
    "papermill": {
     "duration": 2.166358,
     "end_time": "2021-09-03T17:22:14.326739",
     "exception": false,
     "start_time": "2021-09-03T17:22:12.160381",
     "status": "completed"
    },
    "tags": []
   },
   "outputs": [],
   "source": [
    "genres = attributes.groupby(['track_name', 'artist_name'])[genres_names].sum()\n",
    "\n",
    "column_names = ['track_name', 'artist_name']\n",
    "for i in genres_names:\n",
    "    column_names.append(i)\n",
    "\n",
    "genres.reset_index(inplace=True)\n",
    "genres.columns = column_names\n",
    "\n",
    "attributes = attributes.drop(genres_names, axis = 1)\n",
    "\n",
    "atts_cols = attributes.drop(['track_name', 'artist_name'], axis = 1).columns\n",
    "scaler = StandardScaler()\n",
    "attributes[atts_cols] = scaler.fit_transform(attributes[atts_cols])\n",
    "\n",
    "songs = pd.merge(genres, attributes, how = 'inner', on = ['track_name', \"artist_name\"])\n",
    "songs = songs.drop_duplicates(['track_name', 'artist_name']).reset_index(drop = True)\n"
   ]
  },
  {
   "cell_type": "code",
   "execution_count": 7,
   "id": "57a2e4d7",
   "metadata": {
    "execution": {
     "iopub.execute_input": "2021-09-03T17:22:14.383694Z",
     "iopub.status.busy": "2021-09-03T17:22:14.382707Z",
     "iopub.status.idle": "2021-09-03T17:22:14.387479Z",
     "shell.execute_reply": "2021-09-03T17:22:14.386964Z"
    },
    "papermill": {
     "duration": 0.044044,
     "end_time": "2021-09-03T17:22:14.387610",
     "exception": false,
     "start_time": "2021-09-03T17:22:14.343566",
     "status": "completed"
    },
    "tags": []
   },
   "outputs": [
    {
     "data": {
      "text/html": [
       "<div>\n",
       "<style scoped>\n",
       "    .dataframe tbody tr th:only-of-type {\n",
       "        vertical-align: middle;\n",
       "    }\n",
       "\n",
       "    .dataframe tbody tr th {\n",
       "        vertical-align: top;\n",
       "    }\n",
       "\n",
       "    .dataframe thead th {\n",
       "        text-align: right;\n",
       "    }\n",
       "</style>\n",
       "<table border=\"1\" class=\"dataframe\">\n",
       "  <thead>\n",
       "    <tr style=\"text-align: right;\">\n",
       "      <th></th>\n",
       "      <th>track_name</th>\n",
       "      <th>artist_name</th>\n",
       "      <th>genre_A Capella</th>\n",
       "      <th>genre_Alternative</th>\n",
       "      <th>genre_Anime</th>\n",
       "      <th>genre_Blues</th>\n",
       "      <th>genre_Children's Music</th>\n",
       "      <th>genre_Children’s Music</th>\n",
       "      <th>genre_Classical</th>\n",
       "      <th>genre_Comedy</th>\n",
       "      <th>...</th>\n",
       "      <th>danceability</th>\n",
       "      <th>duration_ms</th>\n",
       "      <th>energy</th>\n",
       "      <th>instrumentalness</th>\n",
       "      <th>liveness</th>\n",
       "      <th>loudness</th>\n",
       "      <th>mode</th>\n",
       "      <th>speechiness</th>\n",
       "      <th>tempo</th>\n",
       "      <th>valence</th>\n",
       "    </tr>\n",
       "  </thead>\n",
       "  <tbody>\n",
       "    <tr>\n",
       "      <th>0</th>\n",
       "      <td>\" La Traviata \" : Amami Alfredo (Act II) - Dig...</td>\n",
       "      <td>Maria Callas</td>\n",
       "      <td>0</td>\n",
       "      <td>0</td>\n",
       "      <td>0</td>\n",
       "      <td>0</td>\n",
       "      <td>0</td>\n",
       "      <td>0</td>\n",
       "      <td>0</td>\n",
       "      <td>0</td>\n",
       "      <td>...</td>\n",
       "      <td>-1.025627</td>\n",
       "      <td>-0.867606</td>\n",
       "      <td>-1.123371</td>\n",
       "      <td>-0.396017</td>\n",
       "      <td>0.393352</td>\n",
       "      <td>-0.377133</td>\n",
       "      <td>-0.730526</td>\n",
       "      <td>-0.419178</td>\n",
       "      <td>-1.021740</td>\n",
       "      <td>-1.597743</td>\n",
       "    </tr>\n",
       "    <tr>\n",
       "      <th>1</th>\n",
       "      <td>\"1点\"</td>\n",
       "      <td>Yuki Hayashi</td>\n",
       "      <td>0</td>\n",
       "      <td>0</td>\n",
       "      <td>1</td>\n",
       "      <td>0</td>\n",
       "      <td>0</td>\n",
       "      <td>0</td>\n",
       "      <td>0</td>\n",
       "      <td>0</td>\n",
       "      <td>...</td>\n",
       "      <td>-1.639826</td>\n",
       "      <td>-0.648438</td>\n",
       "      <td>0.725142</td>\n",
       "      <td>1.214458</td>\n",
       "      <td>-0.610319</td>\n",
       "      <td>-0.537515</td>\n",
       "      <td>1.368876</td>\n",
       "      <td>-0.398695</td>\n",
       "      <td>-0.924746</td>\n",
       "      <td>-1.428170</td>\n",
       "    </tr>\n",
       "    <tr>\n",
       "      <th>2</th>\n",
       "      <td>\"42\" - From SR3MM</td>\n",
       "      <td>Rae Sremmurd</td>\n",
       "      <td>0</td>\n",
       "      <td>0</td>\n",
       "      <td>0</td>\n",
       "      <td>0</td>\n",
       "      <td>0</td>\n",
       "      <td>0</td>\n",
       "      <td>0</td>\n",
       "      <td>0</td>\n",
       "      <td>...</td>\n",
       "      <td>2.228546</td>\n",
       "      <td>0.024363</td>\n",
       "      <td>-0.030205</td>\n",
       "      <td>-0.489819</td>\n",
       "      <td>-0.539709</td>\n",
       "      <td>0.471123</td>\n",
       "      <td>-0.730526</td>\n",
       "      <td>0.022828</td>\n",
       "      <td>0.400417</td>\n",
       "      <td>-0.503401</td>\n",
       "    </tr>\n",
       "    <tr>\n",
       "      <th>3</th>\n",
       "      <td>\"45\"</td>\n",
       "      <td>The Gaslight Anthem</td>\n",
       "      <td>0</td>\n",
       "      <td>0</td>\n",
       "      <td>0</td>\n",
       "      <td>0</td>\n",
       "      <td>0</td>\n",
       "      <td>0</td>\n",
       "      <td>0</td>\n",
       "      <td>0</td>\n",
       "      <td>...</td>\n",
       "      <td>-1.289625</td>\n",
       "      <td>-0.274344</td>\n",
       "      <td>1.514651</td>\n",
       "      <td>-0.489819</td>\n",
       "      <td>0.312655</td>\n",
       "      <td>0.810392</td>\n",
       "      <td>-0.730526</td>\n",
       "      <td>-0.101149</td>\n",
       "      <td>1.954812</td>\n",
       "      <td>-0.122726</td>\n",
       "    </tr>\n",
       "    <tr>\n",
       "      <th>4</th>\n",
       "      <td>\"6人で(強い方が強い)\"</td>\n",
       "      <td>Yuki Hayashi</td>\n",
       "      <td>0</td>\n",
       "      <td>0</td>\n",
       "      <td>1</td>\n",
       "      <td>0</td>\n",
       "      <td>0</td>\n",
       "      <td>0</td>\n",
       "      <td>0</td>\n",
       "      <td>0</td>\n",
       "      <td>...</td>\n",
       "      <td>-2.038516</td>\n",
       "      <td>-0.539135</td>\n",
       "      <td>-1.692728</td>\n",
       "      <td>2.495969</td>\n",
       "      <td>-0.433794</td>\n",
       "      <td>-1.188544</td>\n",
       "      <td>-0.730526</td>\n",
       "      <td>-0.462839</td>\n",
       "      <td>0.595796</td>\n",
       "      <td>-1.571980</td>\n",
       "    </tr>\n",
       "  </tbody>\n",
       "</table>\n",
       "<p>5 rows × 41 columns</p>\n",
       "</div>"
      ],
      "text/plain": [
       "                                          track_name          artist_name  \\\n",
       "0  \" La Traviata \" : Amami Alfredo (Act II) - Dig...         Maria Callas   \n",
       "1                                               \"1点\"         Yuki Hayashi   \n",
       "2                                  \"42\" - From SR3MM         Rae Sremmurd   \n",
       "3                                               \"45\"  The Gaslight Anthem   \n",
       "4                                      \"6人で(強い方が強い)\"         Yuki Hayashi   \n",
       "\n",
       "   genre_A Capella  genre_Alternative  genre_Anime  genre_Blues  \\\n",
       "0                0                  0            0            0   \n",
       "1                0                  0            1            0   \n",
       "2                0                  0            0            0   \n",
       "3                0                  0            0            0   \n",
       "4                0                  0            1            0   \n",
       "\n",
       "   genre_Children's Music  genre_Children’s Music  genre_Classical  \\\n",
       "0                       0                       0                0   \n",
       "1                       0                       0                0   \n",
       "2                       0                       0                0   \n",
       "3                       0                       0                0   \n",
       "4                       0                       0                0   \n",
       "\n",
       "   genre_Comedy  ...  danceability  duration_ms    energy  instrumentalness  \\\n",
       "0             0  ...     -1.025627    -0.867606 -1.123371         -0.396017   \n",
       "1             0  ...     -1.639826    -0.648438  0.725142          1.214458   \n",
       "2             0  ...      2.228546     0.024363 -0.030205         -0.489819   \n",
       "3             0  ...     -1.289625    -0.274344  1.514651         -0.489819   \n",
       "4             0  ...     -2.038516    -0.539135 -1.692728          2.495969   \n",
       "\n",
       "   liveness  loudness      mode  speechiness     tempo   valence  \n",
       "0  0.393352 -0.377133 -0.730526    -0.419178 -1.021740 -1.597743  \n",
       "1 -0.610319 -0.537515  1.368876    -0.398695 -0.924746 -1.428170  \n",
       "2 -0.539709  0.471123 -0.730526     0.022828  0.400417 -0.503401  \n",
       "3  0.312655  0.810392 -0.730526    -0.101149  1.954812 -0.122726  \n",
       "4 -0.433794 -1.188544 -0.730526    -0.462839  0.595796 -1.571980  \n",
       "\n",
       "[5 rows x 41 columns]"
      ]
     },
     "execution_count": 7,
     "metadata": {},
     "output_type": "execute_result"
    }
   ],
   "source": [
    "songs.head()"
   ]
  },
  {
   "cell_type": "markdown",
   "id": "5013f6cb",
   "metadata": {
    "papermill": {
     "duration": 0.017148,
     "end_time": "2021-09-03T17:22:14.422324",
     "exception": false,
     "start_time": "2021-09-03T17:22:14.405176",
     "status": "completed"
    },
    "tags": []
   },
   "source": [
    "## Exploratory Data Analysis"
   ]
  },
  {
   "cell_type": "code",
   "execution_count": 8,
   "id": "54028e07",
   "metadata": {
    "execution": {
     "iopub.execute_input": "2021-09-03T17:22:14.465611Z",
     "iopub.status.busy": "2021-09-03T17:22:14.464973Z",
     "iopub.status.idle": "2021-09-03T17:30:41.971229Z",
     "shell.execute_reply": "2021-09-03T17:30:41.971783Z",
     "shell.execute_reply.started": "2021-09-03T16:42:26.662673Z"
    },
    "papermill": {
     "duration": 507.531897,
     "end_time": "2021-09-03T17:30:41.972015",
     "exception": false,
     "start_time": "2021-09-03T17:22:14.440118",
     "status": "completed"
    },
    "tags": []
   },
   "outputs": [
    {
     "data": {
      "image/png": "[encoded data removed]",
      "text/plain": [
       "<Figure size 432x288 with 1 Axes>"
      ]
     },
     "metadata": {
      "needs_background": "light"
     },
     "output_type": "display_data"
    }
   ],
   "source": [
    "sse={}\n",
    "DF = pd.DataFrame(songs.drop(['track_name', 'artist_name'], axis = 1))\n",
    "for k in range(1, 30):\n",
    "    kmeans = KMeans(n_clusters=k, max_iter=1000).fit(DF)\n",
    "    DF[\"clusters\"] = kmeans.labels_\n",
    "    sse[k] = kmeans.inertia_ \n",
    "plt.figure()\n",
    "plt.plot(list(sse.keys()), list(sse.values()))\n",
    "plt.title(\"Elbow method\")\n",
    "plt.xlabel(\"Number of cluster\")\n",
    "plt.show()"
   ]
  },
  {
   "cell_type": "code",
   "execution_count": 9,
   "id": "89eea6c7",
   "metadata": {
    "execution": {
     "iopub.execute_input": "2021-09-03T17:30:42.035897Z",
     "iopub.status.busy": "2021-09-03T17:30:42.035112Z",
     "iopub.status.idle": "2021-09-03T17:31:23.602786Z",
     "shell.execute_reply": "2021-09-03T17:31:23.603568Z",
     "shell.execute_reply.started": "2021-09-03T17:06:47.294673Z"
    },
    "papermill": {
     "duration": 41.609533,
     "end_time": "2021-09-03T17:31:23.603770",
     "exception": false,
     "start_time": "2021-09-03T17:30:41.994237",
     "status": "completed"
    },
    "tags": []
   },
   "outputs": [],
   "source": [
    "DF = pd.DataFrame(songs.drop(['track_name', 'artist_name'], axis = 1))\n",
    "kmeans = KMeans(n_clusters=17)\n",
    "songs['Cluster'] = kmeans.fit_predict(DF)"
   ]
  },
  {
   "cell_type": "markdown",
   "id": "0b31638e",
   "metadata": {
    "papermill": {
     "duration": 0.022137,
     "end_time": "2021-09-03T17:31:23.648372",
     "exception": false,
     "start_time": "2021-09-03T17:31:23.626235",
     "status": "completed"
    },
    "tags": []
   },
   "source": [
    "## Cosine Distance model"
   ]
  },
  {
   "cell_type": "code",
   "execution_count": 10,
   "id": "197e6ca4",
   "metadata": {
    "execution": {
     "iopub.execute_input": "2021-09-03T17:31:23.707953Z",
     "iopub.status.busy": "2021-09-03T17:31:23.707170Z",
     "iopub.status.idle": "2021-09-03T17:31:23.710446Z",
     "shell.execute_reply": "2021-09-03T17:31:23.711402Z",
     "shell.execute_reply.started": "2021-09-03T17:07:10.857348Z"
    },
    "papermill": {
     "duration": 0.040685,
     "end_time": "2021-09-03T17:31:23.711595",
     "exception": false,
     "start_time": "2021-09-03T17:31:23.670910",
     "status": "completed"
    },
    "tags": []
   },
   "outputs": [],
   "source": [
    "def find_song_database(name, artist, songs):\n",
    "    result = songs[(songs.artist_name == str(artist)) & (songs.track_name == str(name))]\n",
    "    if len(result) == 0:\n",
    "        return None\n",
    "    return result.drop(['track_name', 'artist_name', 'Cluster'], axis = 1)\n",
    "\n",
    "def find_similar(name, artist, songs, top_n = 5):\n",
    "    database = songs[songs.popularity > 0.5].reset_index(drop = True)\n",
    "    indx_names = database[['track_name', 'artist_name', 'Cluster']]\n",
    "    songs_train = database.drop(['track_name', 'artist_name', 'Cluster'], axis = 1)\n",
    "\n",
    "    song = find_song_database(str(name), str(artist), database)\n",
    "    \n",
    "    if type(song) != type(None):\n",
    "        indx_song = song.index\n",
    "\n",
    "        cos_dists = cosine_similarity(songs_train, songs_train)\n",
    "        indx_names.loc[:,['result']] = cos_dists[indx_song[0]]\n",
    "\n",
    "        indx_names = indx_names.sort_values(by = ['result'], ascending = False)\n",
    "\n",
    "        return indx_names[1:top_n].reset_index(drop = True)\n",
    "    \n",
    "    else:\n",
    "        print(\"Song not found\")\n",
    "        return None\n",
    "    \n",
    "    \n",
    "def playlist_song(name, artist, songs, n_songs = 10):\n",
    "    list_songs = find_similar(str(name), str(artist), songs, n_songs)\n",
    "    \n",
    "    if type(list_songs) != type(None):\n",
    "    \n",
    "        print('Playlist based on \"' + str(name) + '\" by ' + str(artist))\n",
    "        print()\n",
    "\n",
    "        for i in np.arange(0,len(list_songs)):\n",
    "            track_name = list_songs.track_name[i]\n",
    "            artist_name = list_songs.artist_name[i]\n",
    "\n",
    "            print(str(track_name) + ' - ' + str(artist_name))\n",
    "            \n",
    "    return None"
   ]
  },
  {
   "cell_type": "code",
   "execution_count": 11,
   "id": "9257e22d",
   "metadata": {
    "execution": {
     "iopub.execute_input": "2021-09-03T17:31:23.763585Z",
     "iopub.status.busy": "2021-09-03T17:31:23.762374Z",
     "iopub.status.idle": "2021-09-03T17:31:28.003253Z",
     "shell.execute_reply": "2021-09-03T17:31:28.004118Z",
     "shell.execute_reply.started": "2021-09-03T17:07:29.032763Z"
    },
    "papermill": {
     "duration": 4.269967,
     "end_time": "2021-09-03T17:31:28.004382",
     "exception": false,
     "start_time": "2021-09-03T17:31:23.734415",
     "status": "completed"
    },
    "tags": []
   },
   "outputs": [],
   "source": [
    "dists = find_similar('Our Song', 'Taylor Swift', songs)"
   ]
  },
  {
   "cell_type": "markdown",
   "id": "9c4ae15b",
   "metadata": {
    "papermill": {
     "duration": 0.019621,
     "end_time": "2021-09-03T17:31:28.057857",
     "exception": false,
     "start_time": "2021-09-03T17:31:28.038236",
     "status": "completed"
    },
    "tags": []
   },
   "source": [
    "To try the playlist creator based on a song, we tested it with different songs: "
   ]
  },
  {
   "cell_type": "code",
   "execution_count": 12,
   "id": "8ba150ff",
   "metadata": {
    "execution": {
     "iopub.execute_input": "2021-09-03T17:31:28.100821Z",
     "iopub.status.busy": "2021-09-03T17:31:28.099790Z",
     "iopub.status.idle": "2021-09-03T17:31:32.173482Z",
     "shell.execute_reply": "2021-09-03T17:31:32.174967Z",
     "shell.execute_reply.started": "2021-09-03T17:07:36.756961Z"
    },
    "papermill": {
     "duration": 4.098742,
     "end_time": "2021-09-03T17:31:32.175253",
     "exception": false,
     "start_time": "2021-09-03T17:31:28.076511",
     "status": "completed"
    },
    "tags": []
   },
   "outputs": [
    {
     "name": "stdout",
     "output_type": "stream",
     "text": [
      "Playlist based on \"All Of The Lights\" by Kanye West\n",
      "\n",
      "STARGAZING - Travis Scott\n",
      "Deja Vu - Post Malone\n",
      "SICKO MODE - Skrillex Remix - Travis Scott\n",
      "Summer - Marshmello\n",
      "Rich & Sad - Post Malone\n",
      "Don't Play - Travis Scott\n",
      "Magic Shop - BTS\n",
      "All The Above [feat. T-Pain] - Maino\n",
      "Paranoid - Post Malone\n"
     ]
    }
   ],
   "source": [
    "playlist_song('All Of The Lights', 'Kanye West', songs, 10)"
   ]
  },
  {
   "cell_type": "code",
   "execution_count": 13,
   "id": "2576a208",
   "metadata": {
    "execution": {
     "iopub.execute_input": "2021-09-03T17:31:32.239009Z",
     "iopub.status.busy": "2021-09-03T17:31:32.238337Z",
     "iopub.status.idle": "2021-09-03T17:31:36.186559Z",
     "shell.execute_reply": "2021-09-03T17:31:36.188067Z",
     "shell.execute_reply.started": "2021-09-03T17:14:48.622302Z"
    },
    "papermill": {
     "duration": 3.978416,
     "end_time": "2021-09-03T17:31:36.188346",
     "exception": false,
     "start_time": "2021-09-03T17:31:32.209930",
     "status": "completed"
    },
    "tags": []
   },
   "outputs": [
    {
     "name": "stdout",
     "output_type": "stream",
     "text": [
      "Playlist based on \"Across The Universe - Remastered 2009\" by The Beatles\n",
      "\n",
      "The Man in Me - Bob Dylan\n",
      "Roll Over Beethoven - Remastered 2009 - The Beatles\n",
      "Gotta Get Up - Remastered - Harry Nilsson\n",
      "Norwegian Wood (This Bird Has Flown) - Remastered 2009 - The Beatles\n",
      "Sweet Leaf - Remastered Version - Black Sabbath\n",
      "Take Me Home, Country Roads - Rerecorded - John Denver\n",
      "Afternoon Delight - Starland Vocal Band\n",
      "The Joker - Steve Miller Band\n",
      "Back Door Man - The Doors\n"
     ]
    }
   ],
   "source": [
    "playlist_song('Across The Universe - Remastered 2009', \"The Beatles\",  songs, 10)"
   ]
  },
  {
   "cell_type": "code",
   "execution_count": 14,
   "id": "bf4954fe",
   "metadata": {
    "execution": {
     "iopub.execute_input": "2021-09-03T17:31:36.253306Z",
     "iopub.status.busy": "2021-09-03T17:31:36.252166Z",
     "iopub.status.idle": "2021-09-03T17:31:41.044132Z",
     "shell.execute_reply": "2021-09-03T17:31:41.044904Z",
     "shell.execute_reply.started": "2021-09-03T17:13:24.685337Z"
    },
    "papermill": {
     "duration": 4.821932,
     "end_time": "2021-09-03T17:31:41.045556",
     "exception": false,
     "start_time": "2021-09-03T17:31:36.223624",
     "status": "completed"
    },
    "tags": []
   },
   "outputs": [
    {
     "name": "stdout",
     "output_type": "stream",
     "text": [
      "Playlist based on \"Skinny Love\" by Bon Iver\n",
      "\n",
      "Elijah - Matthew And The Atlas\n",
      "Chandelier - Kina Grannis\n",
      "San Luis - Gregory Alan Isakov\n",
      "Fresh Roses - Juke Ross\n",
      "Ordinary World - Joy Williams\n",
      "Sea of Love - Cat Power\n",
      "Be Your Man - Rhys Lewis\n",
      "Sinking Ship - Wild Child\n",
      "Alcatraz - Oliver Riot\n"
     ]
    }
   ],
   "source": [
    "playlist_song('Skinny Love', \"Bon Iver\",  songs, 10)"
   ]
  },
  {
   "cell_type": "code",
   "execution_count": 15,
   "id": "e7421fa1",
   "metadata": {
    "execution": {
     "iopub.execute_input": "2021-09-03T17:31:41.096782Z",
     "iopub.status.busy": "2021-09-03T17:31:41.095769Z",
     "iopub.status.idle": "2021-09-03T17:31:41.143451Z",
     "shell.execute_reply": "2021-09-03T17:31:41.142695Z"
    },
    "papermill": {
     "duration": 0.074304,
     "end_time": "2021-09-03T17:31:41.143640",
     "exception": false,
     "start_time": "2021-09-03T17:31:41.069336",
     "status": "completed"
    },
    "tags": []
   },
   "outputs": [
    {
     "name": "stdout",
     "output_type": "stream",
     "text": [
      "Song not found\n"
     ]
    }
   ],
   "source": [
    "playlist_song('I Knew You Were Trouble', \"Taylor Swift\",  songs, 10)"
   ]
  }
 ],
 "metadata": {
  "kernelspec": {
   "display_name": "Python 3",
   "language": "python",
   "name": "python3"
  },
  "language_info": {
   "codemirror_mode": {
    "name": "ipython",
    "version": 3
   },
   "file_extension": ".py",
   "mimetype": "text/x-python",
   "name": "python",
   "nbconvert_exporter": "python",
   "pygments_lexer": "ipython3",
   "version": "3.7.10"
  },
  "papermill": {
   "default_parameters": {},
   "duration": 583.031649,
   "end_time": "2021-09-03T17:31:43.109446",
   "environment_variables": {},
   "exception": null,
   "input_path": "__notebook__.ipynb",
   "output_path": "__notebook__.ipynb",
   "parameters": {},
   "start_time": "2021-09-03T17:22:00.077797",
   "version": "2.3.3"
  }
 },
 "nbformat": 4,
 "nbformat_minor": 5
}
